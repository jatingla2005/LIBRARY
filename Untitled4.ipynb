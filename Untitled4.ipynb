{
  "nbformat": 4,
  "nbformat_minor": 0,
  "metadata": {
    "colab": {
      "provenance": [],
      "authorship_tag": "ABX9TyOHDEEbkdlAkhPXX8gyQ9+w",
      "include_colab_link": true
    },
    "kernelspec": {
      "name": "python3",
      "display_name": "Python 3"
    },
    "language_info": {
      "name": "python"
    }
  },
  "cells": [
    {
      "cell_type": "markdown",
      "metadata": {
        "id": "view-in-github",
        "colab_type": "text"
      },
      "source": [
        "<a href=\"https://colab.research.google.com/github/jatingla2005/LIBRARY/blob/main/Untitled4.ipynb\" target=\"_parent\"><img src=\"https://colab.research.google.com/assets/colab-badge.svg\" alt=\"Open In Colab\"/></a>"
      ]
    },
    {
      "cell_type": "code",
      "execution_count": 7,
      "metadata": {
        "colab": {
          "base_uri": "https://localhost:8080/"
        },
        "id": "jHHVFeCUbTdA",
        "outputId": "9b710dfe-3d44-475d-f2b0-9481175f5210"
      },
      "outputs": [
        {
          "output_type": "stream",
          "name": "stdout",
          "text": [
            "student Name: JATIN\n",
            "course: ['Python']\n",
            "Student Quality: MUCH BETTER\n"
          ]
        }
      ],
      "source": [
        "class TeacherPlanner:\n",
        "    def __init__(self, student_name, student_quality):\n",
        "        self.student_name = student_name\n",
        "        self.course = []\n",
        "        self.student_quality = student_quality\n",
        "\n",
        "    def add_course(self, course_name):\n",
        "        self.course.append(course_name)\n",
        "\n",
        "    def remove_course(self, course_name):\n",
        "        if course_name in self.course:\n",
        "            self.course.remove(course_name)\n",
        "\n",
        "    def analyze_student(self):\n",
        "        self.student_quality = \"MUCH BETTER\"\n",
        "    def get_student_details(self):\n",
        "        return f\"student Name: {self.student_name}\\ncourse: {self.course}\\nStudent Quality: {self.student_quality}\"\n",
        "Teacher_planner = TeacherPlanner(\"JATIN\", \"BETTER\")\n",
        "Teacher_planner.add_course(\"Python\")\n",
        "Teacher_planner.add_course(\"java\")\n",
        "Teacher_planner.remove_course(\"java\")\n",
        "Teacher_planner.analyze_student()\n",
        "print(Teacher_planner.get_student_details())"
      ]
    }
  ]
}